{
 "metadata": {
  "kernelspec": {
   "display_name": "Streamlit Notebook",
   "name": "streamlit"
  }
 },
 "nbformat_minor": 5,
 "nbformat": 4,
 "cells": [
  {
   "cell_type": "markdown",
   "id": "7724e0dd-82b3-48c4-8b08-2a01ca843194",
   "metadata": {
    "name": "cell1",
    "collapsed": false
   },
   "source": "# 0. Setup"
  },
  {
   "cell_type": "code",
   "id": "3775908f-ca36-4846-8f38-5adca39217f2",
   "metadata": {
    "language": "python",
    "name": "cell2",
    "collapsed": false
   },
   "source": "# Import packages\nimport streamlit as st\nimport pandas as pd\nimport plotly.express as px\nfrom datetime import datetime, timedelta\nfrom snowflake.snowpark.context import get_active_session\n\n# Get Snowflake session\nsession = get_active_session()",
   "execution_count": null,
   "outputs": []
  },
  {
   "cell_type": "markdown",
   "id": "66299465-1775-4217-8fb3-b17fd5b9109a",
   "metadata": {
    "name": "cell3",
    "collapsed": false
   },
   "source": "# 1. Filters"
  },
  {
   "cell_type": "code",
   "id": "8d50cbf4-0c8d-4950-86cb-114990437ac9",
   "metadata": {
    "language": "python",
    "name": "cell4",
    "collapsed": false
   },
   "source": "# Accounts query\nacc_query = '''\n    SELECT DISTINCT(ACCOUNT_NAME) \n    FROM SNOWFLAKE.ORGANIZATION_USAGE.USAGE_IN_CURRENCY_DAILY\n'''\n\n# Convert to DataFrame and extract accounts\ndf_acc = session.sql(acc_query).to_pandas()\nacc_list = sorted(df_acc['ACCOUNT_NAME'].tolist())\n\n# Define default date range (i.e., previous 1 week)\ndefault_end_date = datetime.today().date()\ndefault_start_date = default_end_date - timedelta(days = 7)\n\n# Service types query\nservice_query = '''\n    SELECT DISTINCT(SERVICE_TYPE) \n    FROM SNOWFLAKE.ORGANIZATION_USAGE.USAGE_IN_CURRENCY_DAILY\n'''\n\n# Convert to DataFrame and extract service types\ndf_service = session.sql(service_query).to_pandas()\nservice_list = sorted(df_service['SERVICE_TYPE'].tolist())\n\n# Create filters\nfilter1, filter2, filter3 = st.columns(3)\n\n## Accounts\nwith filter1:\n    selected_acc = st.multiselect(\n        label = 'Select Accounts:', \n        options = acc_list,\n        default = acc_list\n    )\n\n## Date range\nwith filter2:\n    selected_date = st.date_input(\n        label= 'Select Date Range:', \n        value = [default_start_date, default_end_date]\n    )\n\n## Service types\nwith filter3:\n    selected_service = st.multiselect(\n        label = 'Select Service Types:', \n        options = service_list,\n        default = service_list\n    )",
   "execution_count": null,
   "outputs": []
  },
  {
   "cell_type": "markdown",
   "id": "77121971-2d50-44e1-8b83-e89325da51c3",
   "metadata": {
    "name": "cell5",
    "collapsed": false
   },
   "source": "# 2. Overall Cost"
  },
  {
   "cell_type": "code",
   "id": "6bce3602-0a90-40a6-ab83-8ed3140c474b",
   "metadata": {
    "language": "python",
    "name": "cell6",
    "collapsed": false
   },
   "outputs": [],
   "source": "# Quote each account name\nquoted_selected_acc = [\"'{}'\".format(acc) for acc in selected_acc]\n\n# Quote each service type\nquoted_selected_service = [\"'{}'\".format(service) for service in selected_service]\n\n# Extract start and end dates from selected_date\nstart_date, end_date = selected_date\nstart_date_str = start_date.strftime('%Y-%m-%d')\nend_date_str = end_date.strftime('%Y-%m-%d')\n\n# Total cost query\nif quoted_selected_acc and quoted_selected_service:\n    cost_query = '''\n        SELECT \n            SUM(USAGE_IN_CURRENCY) AS TOTAL_COST_USD,\n            SUM(USAGE) AS TOTAL_COST_CREDITS,\n            AVG(USAGE_IN_CURRENCY) AS AVG_COST_USD,\n            AVG(USAGE) AS AVG_COST_CREDITS,\n        FROM SNOWFLAKE.ORGANIZATION_USAGE.USAGE_IN_CURRENCY_DAILY \n        WHERE ACCOUNT_NAME IN ({})\n        AND SERVICE_TYPE IN ({})\n        AND USAGE_DATE BETWEEN '{}' AND '{}'\n    '''.format(\n        ', '.join(quoted_selected_acc),\n        ', '.join(quoted_selected_service),\n        start_date_str,\n        end_date_str\n    )\nelse:\n    cost_query = '''\n        SELECT \n            0 AS TOTAL_COST_USD,\n            0 AS TOTAL_COST_CREDITS,\n            0 AS AVG_COST_USD,\n            0 AS AVG_COST_CREDITS\n    '''\n\n# Convert to DataFrame\ndf_cost = session.sql(cost_query).to_pandas()\n\n# Extract total cost (USD)\ntotal_cost_usd = df_cost['TOTAL_COST_USD'].iloc[0]\nformatted_total_cost_usd = \"${:,.2f}\".format(total_cost_usd)\n\n# Extract total cost (credits)\ntotal_cost_credits = df_cost['TOTAL_COST_CREDITS'].iloc[0]\nformatted_total_cost_credits = \"{:,.2f}\".format(total_cost_credits)\n\n# Extract total cost (USD)\navg_cost_usd = df_cost['AVG_COST_USD'].iloc[0]\nformatted_avg_cost_usd = \"${:,.2f}\".format(avg_cost_usd)\n\n# Extract total cost (credits)\navg_cost_credits = df_cost['AVG_COST_CREDITS'].iloc[0]\nformatted_avg_cost_credits = \"{:,.2f}\".format(avg_cost_credits)\n\n# Remaining credits query (Note: Using FREE_USAGE_BALANCE instead of CAPACITY_BALANCE)\nremaining_credits_query = '''\n    SELECT \n        DATE, \n        FREE_USAGE_BALANCE\n    FROM SNOWFLAKE.ORGANIZATION_USAGE.REMAINING_BALANCE_DAILY\n    ORDER BY DATE DESC\n    LIMIT 1;\n'''\n\n# Convert to DataFrame\ndf_remaining_credits = session.sql(remaining_credits_query).to_pandas()\n\n# Extract remaining credits (USD)\nremaining_credits_usd = df_remaining_credits['FREE_USAGE_BALANCE'].iloc[0]\nformatted_remaining_credits_usd = \"${:,.2f}\".format(remaining_credits_usd)\n\n# Create tabs\noverall_cost_tab1, overall_cost_tab2 = st.tabs([\"Cost\", \"Remaining Credits\"])\n\n# Create overall cost visual\nwith overall_cost_tab1:\n    cost1, cost2, cost3, cost4 = st.columns(4)\n    \n    ## Total cost in USD\n    with cost1:\n        st.metric(\n            label = 'Total Cost in USD:',\n            value = formatted_total_cost_usd\n        )\n        \n    ## Total cost in credits\n    with cost2:\n        st.metric(\n            label = 'Total Cost in Credits:',\n            value = formatted_total_cost_credits\n        )\n    \n    ## Average cost in USD\n    with cost3:\n        st.metric(\n            label = 'Average Cost in USD:',\n            value = formatted_avg_cost_usd\n        )\n        \n    ## Average cost in credits\n    with cost4:\n        st.metric(\n            label = 'Average Cost in Credits:',\n            value = formatted_avg_cost_credits\n        )\n\n# Create remaining credits visual\nwith overall_cost_tab2:\n    st.metric(\n        label = 'Remaining redits in USD:',\n        value = formatted_remaining_credits_usd\n    )",
   "execution_count": null
  },
  {
   "cell_type": "markdown",
   "id": "bf5e6ea1-27b6-4361-aaab-517dde644ab4",
   "metadata": {
    "name": "cell7",
    "collapsed": false
   },
   "source": "# 3. Graphs"
  },
  {
   "cell_type": "markdown",
   "id": "9b354558-cea2-438f-ad6f-49eac6870a6e",
   "metadata": {
    "name": "cell8",
    "collapsed": false
   },
   "source": "## 3.1 Daily / Monthly Cost"
  },
  {
   "cell_type": "code",
   "id": "3ab7401f-3155-4754-a031-a5856b651fc2",
   "metadata": {
    "language": "python",
    "name": "cell9",
    "collapsed": false
   },
   "outputs": [],
   "source": "# Daily cost query\nif quoted_selected_acc and quoted_selected_service:\n    daily_cost_query = '''\n        SELECT \n            USAGE_DATE,\n            SUM(USAGE_IN_CURRENCY) AS TOTAL_COST_USD\n        FROM SNOWFLAKE.ORGANIZATION_USAGE.USAGE_IN_CURRENCY_DAILY \n        WHERE ACCOUNT_NAME IN ({})\n        AND SERVICE_TYPE IN ({})\n        AND USAGE_DATE BETWEEN '{}' AND '{}'\n        GROUP BY USAGE_DATE\n        ORDER BY USAGE_DATE ASC\n    '''.format(\n        ', '.join(quoted_selected_acc),\n        ', '.join(quoted_selected_service),\n        start_date_str,\n        end_date_str\n    )\nelse:\n    daily_cost_query = '''\n        SELECT \n            USAGE_DATE,\n            0 AS TOTAL_COST_USD\n        FROM SNOWFLAKE.ORGANIZATION_USAGE.USAGE_IN_CURRENCY_DAILY \n        WHERE USAGE_DATE BETWEEN '{}' AND '{}'\n        GROUP BY USAGE_DATE\n        ORDER BY USAGE_DATE ASC\n    '''.format(\n        start_date_str,\n        end_date_str\n    )\n\n# Convert to DataFrame\ndf_daily_cost = session.sql(daily_cost_query).to_pandas()\n\n# Create a Plotly bar chart\nfig_daily_cost = px.bar(df_daily_cost, x = 'USAGE_DATE', y = 'TOTAL_COST_USD', \n             labels = {'USAGE_DATE': 'Usage Date', 'TOTAL_COST_USD': 'Total Cost (USD)'},\n             title = 'Daily Cost in USD')\n\nfig_daily_cost.update_layout(\n    xaxis_title = '',\n    yaxis_title = '',\n    bargap = 0.2,\n    width = 800,\n    height = 400,\n    title = {\n        'text': 'Daily Cost in USD',\n        'y':0.9,\n        'x':0.5,\n        'xanchor': 'center',\n        'yanchor': 'top'\n    }\n)\n\nfig_daily_cost.update_xaxes(\n    dtick = \"D1\",\n    tickformat = '%Y-%m-%d'\n)\n\n# Monthly cost query\nif quoted_selected_acc and quoted_selected_service:\n    monthly_cost_query = '''\n        SELECT \n            TO_CHAR(USAGE_DATE, 'YYYY-MM') AS USAGE_MONTH,\n            SUM(USAGE_IN_CURRENCY) AS TOTAL_COST_USD\n        FROM SNOWFLAKE.ORGANIZATION_USAGE.USAGE_IN_CURRENCY_DAILY \n        WHERE ACCOUNT_NAME IN ({})\n        AND SERVICE_TYPE IN ({})\n        AND USAGE_DATE BETWEEN '{}' AND '{}'\n        GROUP BY USAGE_MONTH\n        ORDER BY USAGE_MONTH ASC\n    '''.format(\n        ', '.join(quoted_selected_acc),\n        ', '.join(quoted_selected_service),\n        start_date_str,\n        end_date_str\n    )\nelse:\n    monthly_cost_query = '''\n        SELECT \n           TO_CHAR(USAGE_DATE, 'YYYY-MM') AS USAGE_MONTH,\n            0 AS TOTAL_COST_USD\n        FROM SNOWFLAKE.ORGANIZATION_USAGE.USAGE_IN_CURRENCY_DAILY \n        WHERE USAGE_DATE BETWEEN '{}' AND '{}'\n        GROUP BY USAGE_MONTH\n        ORDER BY USAGE_MONTH ASC\n    '''.format(\n        start_date_str,\n        end_date_str\n    )\n\n# Convert to DataFrame\ndf_monthly_cost = session.sql(monthly_cost_query).to_pandas()\n\n# Create a Plotly bar chart\nfig_monthly_cost = px.bar(df_monthly_cost, x = 'USAGE_MONTH', y = 'TOTAL_COST_USD', \n             labels = {'USAGE_MONTH': 'Usage Month', 'TOTAL_COST_USD': 'Total Cost (USD)'},\n             title = 'Monthly Cost in USD')\n\nfig_monthly_cost.update_layout(\n    xaxis_title = '',\n    yaxis_title = '',\n    bargap = 0.2,\n    width = 800,\n    height = 400,\n    title = {\n        'text': 'Monthly Cost in USD',\n        'y':0.9,\n        'x':0.5,\n        'xanchor': 'center',\n        'yanchor': 'top'\n    }\n)\n\nfig_monthly_cost.update_xaxes(\n    dtick = \"M1\",\n    tickformat = '%Y-%m'\n)\n\n# Create tabs\ndaily_cost_tab, monthly_cost_tab = st.tabs([\"Daily Cost\", \"Monthly Cost\"])\n\n# Display the Plotly chart in Streamlit\nwith daily_cost_tab:\n    st.plotly_chart(fig_daily_cost, use_container_width = True)\n\nwith monthly_cost_tab:\n    st.write(\"📣 Note: For the date range filter, select the entire month to view the full result.\")\n    st.plotly_chart(fig_monthly_cost, use_container_width = True)",
   "execution_count": null
  },
  {
   "cell_type": "markdown",
   "id": "31082f35-1e48-4278-83b9-530113cef71f",
   "metadata": {
    "name": "cell10",
    "collapsed": false
   },
   "source": "## 3.2 Cost by Account / Service Type"
  },
  {
   "cell_type": "code",
   "id": "ae57df0a-fe60-40d3-b067-bac9b8d0f70e",
   "metadata": {
    "language": "python",
    "name": "cell11"
   },
   "outputs": [],
   "source": "# Cost by account query\nif quoted_selected_acc and quoted_selected_service:\n    cost_acc_query = '''\n        SELECT \n            ACCOUNT_NAME,\n            SUM(USAGE_IN_CURRENCY) AS TOTAL_COST_USD\n        FROM SNOWFLAKE.ORGANIZATION_USAGE.USAGE_IN_CURRENCY_DAILY \n        WHERE ACCOUNT_NAME IN ({})\n        AND SERVICE_TYPE IN ({})\n        AND USAGE_DATE BETWEEN '{}' AND '{}'\n        GROUP BY ACCOUNT_NAME\n        ORDER BY TOTAL_COST_USD DESC\n    '''.format(\n        ', '.join(quoted_selected_acc),\n        ', '.join(quoted_selected_service),\n        start_date_str,\n        end_date_str\n    )\nelse:\n    cost_acc_query = '''\n        SELECT \n            NULL AS ACCOUNT_NAME,\n            0 AS TOTAL_COST_USD\n    '''\n\n# Cost by service type query\nif quoted_selected_acc and quoted_selected_service:\n    cost_service_query = '''\n        SELECT \n            SERVICE_TYPE,\n            SUM(USAGE_IN_CURRENCY) AS TOTAL_COST_USD\n        FROM SNOWFLAKE.ORGANIZATION_USAGE.USAGE_IN_CURRENCY_DAILY \n        WHERE ACCOUNT_NAME IN ({})\n        AND SERVICE_TYPE IN ({})\n        AND USAGE_DATE BETWEEN '{}' AND '{}'\n        GROUP BY SERVICE_TYPE\n        ORDER BY TOTAL_COST_USD DESC\n    '''.format(\n        ', '.join(quoted_selected_acc),\n        ', '.join(quoted_selected_service),\n        start_date_str,\n        end_date_str\n    )\nelse:\n    cost_service_query = '''\n        SELECT \n            NULL AS SERVICE_TYPE,\n            0 AS TOTAL_COST_USD\n    '''\n\n# Convert to DataFrame\ndf_cost_acc = session.sql(cost_acc_query).to_pandas()\ndf_cost_service = session.sql(cost_service_query).to_pandas()\n\n# Create the 1st Plotly pie chart: Cost by account\nfig_acc = px.pie(df_cost_acc, values = 'TOTAL_COST_USD', names = 'ACCOUNT_NAME', \n             title = 'Cost by Account')\n\nfig_acc.update_layout(\n    title = {\n        'text': 'Cost by Account',\n        'y':0.9,\n        'x':0.5,\n        'xanchor': 'center',\n        'yanchor': 'top'\n    }\n)\n\n# Create the 2nd Plotly pie chart: Cost by service type\nfig_service = px.pie(df_cost_service, values = 'TOTAL_COST_USD', names = 'SERVICE_TYPE', \n                     title = 'Cost by Service Type')\n\nfig_service.update_layout(\n    title = {\n        'text': 'Cost by Service Type',\n        'y':0.9,\n        'x':0.5,\n        'xanchor': 'center',\n        'yanchor': 'top'\n    }\n)\n\n# Display the Plotly charts side by side in Streamlit\npie1, pie2 = st.columns(2)\n\nwith pie1:\n    st.plotly_chart(fig_acc, use_container_width = True)\n\nwith pie2:\n    st.plotly_chart(fig_service, use_container_width = True)",
   "execution_count": null
  },
  {
   "cell_type": "markdown",
   "id": "b5bbfa69-1f0d-43d4-b21d-1e4d443daa96",
   "metadata": {
    "name": "cell12",
    "collapsed": false
   },
   "source": "## 3.3 Top 10 cost by Account AND Service Type"
  },
  {
   "cell_type": "code",
   "id": "e67cdaf8-66cd-4900-ac0c-bdc096e88596",
   "metadata": {
    "language": "python",
    "name": "cell13"
   },
   "outputs": [],
   "source": "# Cost by account AND service typequery\nif quoted_selected_acc and quoted_selected_service:\n    cost_acc_service_query = '''\n        SELECT \n            ACCOUNT_NAME,\n            SERVICE_TYPE,\n            SUM(USAGE_IN_CURRENCY) AS TOTAL_COST_USD\n        FROM SNOWFLAKE.ORGANIZATION_USAGE.USAGE_IN_CURRENCY_DAILY \n        WHERE ACCOUNT_NAME IN ({})\n        AND SERVICE_TYPE IN ({})\n        AND USAGE_DATE BETWEEN '{}' AND '{}'\n        GROUP BY ACCOUNT_NAME, SERVICE_TYPE\n        ORDER BY TOTAL_COST_USD DESC\n        LIMIT 10\n    '''.format(\n        ', '.join(quoted_selected_acc),\n        ', '.join(quoted_selected_service),\n        start_date_str,\n        end_date_str\n    )\nelse:\n    cost_acc_service_query = '''\n        SELECT \n            NULL AS ACCOUNT_NAME,\n            NULL AS SERVICE_TYPE,\n            0 AS TOTAL_COST_USD\n    '''\n\n# Convert to DataFrame\ndf_cost_acc_service = session.sql(cost_acc_service_query).to_pandas()\n\n# Display the filtered DataFrame\nst.dataframe(df_cost_acc_service, use_container_width = True)",
   "execution_count": null
  }
 ]
}